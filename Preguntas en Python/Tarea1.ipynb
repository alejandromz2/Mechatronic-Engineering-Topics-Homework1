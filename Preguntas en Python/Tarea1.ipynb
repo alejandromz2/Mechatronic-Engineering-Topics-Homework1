{
 "cells": [
  {
   "cell_type": "markdown",
   "metadata": {},
   "source": [
    "## Tarea 1 (parte 1)\n",
    "Integrantes:\n",
    "    * Alejandro Muñoz \n",
    "    * Aaron Figueroa\n",
    "Profesor:\n",
    "    * Oscar Ramos\n",
    "    \n",
    "La respuesta a cada pregunta debe tener un desarrollo que muestre el procedimiento seguido, los resultados obtenidos, y una descripción (explicación/justificación) de dichos resultados. Se debe adjuntar, además, el código utilizado: puede ser como anexo, al final del documento, o como archivos adjuntos al momento de realizar la entrega por canvas. Para todas las siguientes preguntas se debe implementar el proceso de entrenamiento y verificación de manera explícita (no se debe usar software adicional)\n"
   ]
  },
  {
   "cell_type": "markdown",
   "metadata": {},
   "source": [
    "#### Librerias utilizadas: \n"
   ]
  },
  {
   "cell_type": "code",
   "execution_count": 1,
   "metadata": {},
   "outputs": [],
   "source": [
    "import numpy as np\n",
    "%matplotlib inline\n",
    "import matplotlib.pyplot as plt\n",
    "import random"
   ]
  },
  {
   "cell_type": "markdown",
   "metadata": {},
   "source": [
    "#### Funciones Utilizadas: \n"
   ]
  },
  {
   "cell_type": "code",
   "execution_count": 2,
   "metadata": {},
   "outputs": [],
   "source": [
    "def plot_data(X, y):\n",
    "    \"\"\"\n",
    "    Grafica los puntos X (compuesto por x1 y x2) en una figura. Se grafica los\n",
    "    datos positivos (1) con triángulos amarillos, y los negativos (0) con\n",
    "    círculos verdes.\n",
    "    \n",
    "    Argumentos\n",
    "    ----------\n",
    "        X - Matriz (2,n) que contiene cada una de las n instancias como columnas.\n",
    "            Solo se grafica los dos primeros atributos (dos primeras filas)\n",
    "        y - Vector (1,n) que contiene las clases de las instancias\n",
    "    \n",
    "    \"\"\"\n",
    "    pos = np.where(y.flatten()==1)[0]\n",
    "    neg = np.where(y.flatten()==0)[0]\n",
    "    Xpos = X[:,pos]; Xneg = X[:,neg];\n",
    "    plt.figure(figsize=(6,6))\n",
    "    plt.plot(Xpos[0,:], Xpos[1,:],'y^',label='Clase 1')\n",
    "    plt.plot(Xneg[0,:], Xneg[1,:],'go',label='Clase 0')\n",
    "    plt.xlabel('$x_1$'); plt.ylabel('$x_2$')\n",
    "    plt.legend(); plt.axis('scaled')\n",
    "\n",
    "\n",
    "def plot_frontera(w0, w):\n",
    "    \"\"\"\n",
    "    Grafica la frontera de decisión definida por w y w0\n",
    "\n",
    "    Argumentos\n",
    "    ----------\n",
    "        w0 - Bias del modelo\n",
    "         w - Vector (d,1) que contiene los parámetros del modelo (w1, w2, ... wd)\n",
    "\n",
    "    \"\"\"\n",
    "    # Rango de las celdas\n",
    "    u = np.linspace(-2, 2.5, 50)\n",
    "    v = np.linspace(-2, 2.5, 50)\n",
    "    # Celdas\n",
    "    z = np.zeros((u.size, v.size))\n",
    "    # Evaluación de cada una de las celdas\n",
    "    for i, ui in enumerate(u):\n",
    "        for j, vj in enumerate(v):\n",
    "            base = generacion_bases(np.array([[ui], [vj]]))\n",
    "            z[i,j] = np.dot(w.T, base) + w0\n",
    "            \n",
    "    z = z.T\n",
    "    # Gráfico de z = 0\n",
    "    plt.contour(u, v, z, levels=[0], linewidths=2, colors='g')\n",
    "    plt.contourf(u, v, z, levels=[np.min(z), 0, np.max(z)], cmap='Greens', alpha=0.4)\n",
    "    \n",
    "\n",
    "\n",
    "def generacion_bases(X, grado=6):\n",
    "    \"\"\"\n",
    "    Genera bases polinomiales x1, x2, x1^2, x1*x2, x2^2, ... hasta un cierto grado\n",
    "\n",
    "    Argumentos\n",
    "    ----------\n",
    "          X - Matriz de tamaño (2,n) donde n es el número de instancias\n",
    "      grado - grado de las bases polinomiales\n",
    "\n",
    "    Retorna\n",
    "    -------\n",
    "       Xout - Matriz de tamaño (2+m, n) donde se añade m filas según el grado\n",
    "\n",
    "    \"\"\"\n",
    "    X1 = X[0,:]; X2 = X[1,:]\n",
    "    res = []\n",
    "    for i in range(1, grado + 1):\n",
    "        for j in range(i + 1):\n",
    "            res.append((X1 ** (i - j)) * (X2 ** j))\n",
    "    return np.array(res)\n"
   ]
  },
  {
   "cell_type": "markdown",
   "metadata": {},
   "source": [
    "### Pregunta 1\n",
    "\n",
    "Considerar los datos que se brindan en el archivo datos regresion train.csv,\n",
    "donde la primera columna corresponde a los atributos, y la segunda columna a los valores deseados. Desarrollar un modelo de regresión que se ajuste a los datos. Mostrar la función de costo en función del número de iteraciones. Evaluar el desempeño del modelo usando los datos de datos_regresion_test.csv, a través del MSE. Dado que es un modelo de una sola variable, graficar, además, los datos reales junto con los datos que se predice."
   ]
  },
  {
   "cell_type": "markdown",
   "metadata": {},
   "source": [
    "#### Lectura de datos:\n",
    "\n",
    "Se leeran los datos para el entrenamiento y el testeo del ejercicio 1. En este modelo no consideramos necesario normalizar nuestros datos."
   ]
  },
  {
   "cell_type": "code",
   "execution_count": 3,
   "metadata": {},
   "outputs": [],
   "source": [
    "# Lectura de datos\n",
    "df = np.loadtxt('dataregresiontrain.txt', delimiter=',')\n",
    "test = np.loadtxt('dataregresiontest.txt', delimiter=',')"
   ]
  },
  {
   "cell_type": "code",
   "execution_count": 4,
   "metadata": {},
   "outputs": [],
   "source": [
    "X = df[:, 0:1]   # Primeras dos columnas  (atributos)\n",
    "y = df[:, 1]     # Última columna  (valores deseados)\n",
    "n = len(y)         # Número de instancias\n",
    "\n",
    "# Adecuación del tamaño de X, y para usar la implementación vectorizada\n",
    "X = X.T      \n",
    "y = y[None]   # equivalente a y.reshape((1,50))\n"
   ]
  },
  {
   "cell_type": "markdown",
   "metadata": {},
   "source": [
    "#### Funciones de hipótesis y costo para regresión lineal"
   ]
  },
  {
   "cell_type": "code",
   "execution_count": 5,
   "metadata": {},
   "outputs": [],
   "source": [
    "# Función de hipótesis\n",
    "def h(X, w0,w1,w2,w3,w4,w5):\n",
    "    return np.dot(w1, X)+ np.dot(w2, X**2)+np.dot(w3, X**3)+np.dot(w4, X**4) +np.dot(w5, X**5) + w0\n",
    "\n",
    "# Función de costo\n",
    "def fcosto(X, y, w0,w1,w2,w3,w4,w5):\n",
    "    n = y.size\n",
    "    e = h(X, w0, w1, w2, w3,w4,w5) - y\n",
    "    return 1/(2*n)*np.sum(np.square(e))"
   ]
  },
  {
   "cell_type": "code",
   "execution_count": 6,
   "metadata": {},
   "outputs": [
    {
     "name": "stdout",
     "output_type": "stream",
     "text": [
      "La función de costo es : 113.447\n"
     ]
    },
    {
     "data": {
      "image/png": "[encoded data removed]",
      "text/plain": [
       "<Figure size 432x288 with 1 Axes>"
      ]
     },
     "metadata": {
      "needs_background": "light"
     },
     "output_type": "display_data"
    }
   ],
   "source": [
    "# Valores iniciales de los pesos del modelo sin descenso de gradiente\n",
    "w0=1\n",
    "w1=1\n",
    "w2=1\n",
    "w3=1\n",
    "w4=1\n",
    "w5=1\n",
    "ypred=h(X,w0,w1,w2,w3,w4,w5)\n",
    "\n",
    "plt.plot(X,ypred,marker=\"o\", linestyle='-',linewidth=3, color = 'red')\n",
    "plt.plot(X,y,marker=\"o\",linestyle='-',linewidth=4, color = 'green')\n",
    "J=1/(2*n) * np.sum((h(X,w0,w1,w2,w3,w4,w5)-y)**2)\n",
    "print(\"La función de costo es : {}\".format(np.round(J,3)))"
   ]
  },
  {
   "cell_type": "markdown",
   "metadata": {},
   "source": [
    "#### Parámetros Óptimos usando Descenso del gradiente"
   ]
  },
  {
   "cell_type": "code",
   "execution_count": 7,
   "metadata": {},
   "outputs": [
    {
     "name": "stdout",
     "output_type": "stream",
     "text": [
      "La función de costo es : 11.813\n"
     ]
    },
    {
     "data": {
      "image/png": "[encoded data removed]",
      "text/plain": [
       "<Figure size 432x288 with 1 Axes>"
      ]
     },
     "metadata": {
      "needs_background": "light"
     },
     "output_type": "display_data"
    }
   ],
   "source": [
    "# Valores iniciales de los pesos\n",
    "w0 = 0\n",
    "w1 = 0\n",
    "w2 = 0\n",
    "w3 = 0\n",
    "w4 = 0\n",
    "w5 = 0\n",
    "# Parámetros para el descenso del gradiente\n",
    "iteraciones = 10000\n",
    "alfa = 0.001\n",
    "\n",
    "# Vector para almacenar la función de costo\n",
    "J = np.zeros(iteraciones+1)\n",
    "J[0] = 1/(2*n) * np.sum((h(X,w0,w1,w2,w3,w4,w5)-y)**2)\n",
    "# Iteraciones del descenso del gradiente\n",
    "for i in np.arange(iteraciones):\n",
    "    e = h(X, w0, w1,w2,w3,w4,w5) - y                 # error\n",
    "    w0n = w0 - alfa/n * np.sum(e)            # actualización de w0\n",
    "    w1n = w1 - alfa*1/n*np.sum( (h(X,w0,w1,w2,w3,w4,w5)-y)*X )\n",
    "    w2n = w2 - alfa*1/n*np.sum( (h(X,w0,w1,w2,w3,w4,w5)-y)*X )\n",
    "    w3n = w3 - alfa*1/n*np.sum( (h(X,w0,w1,w2,w3,w4,w5)-y)*X )\n",
    "    w4n = w4 - alfa*1/n*np.sum( (h(X,w0,w1,w2,w3,w4,w5)-y)*X )\n",
    "    w5n = w5 - alfa*1/n*np.sum( (h(X,w0,w1,w2,w3,w4,w5)-y)*X )\n",
    "    w0 = w0n\n",
    "    w1 = w1n\n",
    "    w2 = w2n\n",
    "    w3 = w3n\n",
    "    w4 = w4n\n",
    "    w5 = w5n\n",
    "    J[i+1]=1/(2*n) * np.sum((h(X,w0,w1,w2,w3,w4,w5)-y)**2)\n",
    "\n",
    "JJ=1/(2*n) * np.sum((h(X,w0,w1,w2,w3,w4,w5)-y)**2)\n",
    "print(\"La función de costo es : {}\".format(np.round(JJ,3)))\n",
    "\n",
    "plt.plot(J)\n",
    "plt.title(\"Función de costo\"); plt.xlabel(\"iteraciones\");"
   ]
  },
  {
   "cell_type": "markdown",
   "metadata": {},
   "source": [
    "Probamos el modelo en nuestros datos y podemos observar que ajusta mucho mejor que con los primeros pesos puestos aleatoriamente"
   ]
  },
  {
   "cell_type": "code",
   "execution_count": 8,
   "metadata": {},
   "outputs": [
    {
     "data": {
      "text/plain": [
       "<matplotlib.collections.PathCollection at 0x197e6f4a100>"
      ]
     },
     "execution_count": 8,
     "metadata": {},
     "output_type": "execute_result"
    },
    {
     "data": {
      "image/png": "[encoded data removed]",
      "text/plain": [
       "<Figure size 432x288 with 1 Axes>"
      ]
     },
     "metadata": {
      "needs_background": "light"
     },
     "output_type": "display_data"
    }
   ],
   "source": [
    "ypredc=h(X,w0,w1,w2,w3,w4,w5)\n",
    "\n",
    "plt.scatter(X,ypredc,linestyle='-', color = 'red')\n",
    "plt.scatter(X,y,linestyle='-', color = 'green')"
   ]
  },
  {
   "cell_type": "markdown",
   "metadata": {},
   "source": [
    "#### Testeo del modelo y calculo del MSE\n",
    "\n",
    "A continuación usaremos los datos del testeo y evaluaremos el desempeño del modelo usando MSE"
   ]
  },
  {
   "cell_type": "code",
   "execution_count": 9,
   "metadata": {},
   "outputs": [
    {
     "data": {
      "text/plain": [
       "19.35885298740613"
      ]
     },
     "execution_count": 9,
     "metadata": {},
     "output_type": "execute_result"
    }
   ],
   "source": [
    "xtest = test[:,0:1]\n",
    "xtest = xtest.T\n",
    "ytest = test[:,1]\n",
    "ytest = ytest[None]\n",
    "n=len(test[:,1])\n",
    "\n",
    "y_prede = h(xtest,w0,w1,w2,w3,w4,w5)\n",
    "\n",
    "MSE = np.sum((ytest-y_prede)**2)/n\n",
    "MSE\n"
   ]
  },
  {
   "cell_type": "markdown",
   "metadata": {},
   "source": [
    "### Pregunta 2\n",
    "\n",
    "Descargar los archivos housing.data y housing.names del repositorio UCI Machine Learning Repository. El primer archivo contiene varios atributos relacionados\n",
    "con el precio de casas en Boston; y el segundo archivo contiene la descripción de lo que representa cada columna. Los datos deben ser divididos de manera aleatoria en un 80 % para entrenamiento y un 20 % para prueba, aproximadamente. Usar regresión lineal (multivariable) para encontrar el modelo de predicción, visualizando el comportamiento de la función de costo. Utilizar el conjunto de prueba generado, para validar el funcionamiento del modelo, usando alguna métrica."
   ]
  },
  {
   "cell_type": "markdown",
   "metadata": {},
   "source": [
    "#### Lectura de datos y Normalización\n",
    "\n",
    "Primero generamos una semilla usando la función np.random.seed, de esta forma la muestra aleatoria de datos siempre sera la misma. Luego generaremos valores de 0 a 506. Luego dividiremos el 80 % de los datos para entrenamiento y el otro 20 % para testeo."
   ]
  },
  {
   "cell_type": "code",
   "execution_count": 10,
   "metadata": {},
   "outputs": [],
   "source": [
    "data = np.loadtxt('housing_data.txt')"
   ]
  },
  {
   "cell_type": "code",
   "execution_count": 11,
   "metadata": {},
   "outputs": [],
   "source": [
    "np.random.seed(seed=0)\n",
    "rango=random.sample(range(0, 506), 506)\n",
    "\n",
    "DF= data[rango]\n",
    "\n",
    "train=DF[0:406,:]\n",
    "test=DF[406:,:]\n"
   ]
  },
  {
   "cell_type": "code",
   "execution_count": 12,
   "metadata": {},
   "outputs": [
    {
     "data": {
      "text/plain": [
       "406"
      ]
     },
     "execution_count": 12,
     "metadata": {},
     "output_type": "execute_result"
    }
   ],
   "source": [
    "xa = train[:,0:13]\n",
    "xa = xa.T\n",
    "ya = train[:,13]\n",
    "ya = ya[None]\n",
    "\n",
    "n=len(train[:,13])\n",
    "n"
   ]
  },
  {
   "cell_type": "code",
   "execution_count": 13,
   "metadata": {},
   "outputs": [],
   "source": [
    "# Normalización de los atributos\n",
    "mu = np.mean(xa, axis=1, keepdims=True)\n",
    "sigma = np.std(xa, axis=1, keepdims=True)\n",
    "xaNorm = (xa - mu)/sigma"
   ]
  },
  {
   "cell_type": "markdown",
   "metadata": {},
   "source": [
    "#### Funciones de hipótesis y costo para regresión lineal"
   ]
  },
  {
   "cell_type": "code",
   "execution_count": 14,
   "metadata": {},
   "outputs": [],
   "source": [
    "# Función de hipótesis\n",
    "def h(X, w, w0):\n",
    "    return np.dot(w.T, X) + w0\n",
    "\n",
    "# Función de costo\n",
    "def fcosto(X, y, w, w0):\n",
    "    n = y.size\n",
    "    e = h(X, w, w0) - y\n",
    "    return 1/(2*n)*np.sum(np.square(e))"
   ]
  },
  {
   "cell_type": "markdown",
   "metadata": {},
   "source": [
    "#### Parámetros Óptimos usando Descenso del gradiente"
   ]
  },
  {
   "cell_type": "code",
   "execution_count": 15,
   "metadata": {},
   "outputs": [
    {
     "name": "stdout",
     "output_type": "stream",
     "text": [
      "La función de costo es : 11.103\n"
     ]
    },
    {
     "data": {
      "image/png": "[encoded data removed]",
      "text/plain": [
       "<Figure size 432x288 with 1 Axes>"
      ]
     },
     "metadata": {
      "needs_background": "light"
     },
     "output_type": "display_data"
    }
   ],
   "source": [
    "# Valores iniciales de los pesos\n",
    "w0 = 0\n",
    "w = np.zeros((13,1))\n",
    "\n",
    "# Parámetros para el descenso del gradiente\n",
    "iteraciones = 1000\n",
    "alfa = 0.01 \n",
    "\n",
    "# Vector para almacenar la función de costo\n",
    "J = np.zeros(iteraciones)\n",
    "# Iteraciones del descenso del gradiente\n",
    "for i in np.arange(iteraciones):\n",
    "    e = h(xaNorm, w,w0) - ya   # error\n",
    "    w0 = w0 - alfa/n * np.sum(e)            # actualización de w0\n",
    "    w = w - alfa/n * np.dot(xaNorm, e.T)     # actualización de w\n",
    "    J[i] = fcosto(xaNorm, ya, w, w0)          # Función de costo\n",
    "    \n",
    "plt.plot(J)\n",
    "plt.title(\"Función de costo\"); plt.xlabel(\"iteraciones\");\n",
    "JJ=fcosto(xaNorm, ya, w, w0); \n",
    "print(\"La función de costo es : {}\".format(np.round(JJ,3)))\n"
   ]
  },
  {
   "cell_type": "markdown",
   "metadata": {},
   "source": [
    "#### Testeo del modelo y calculo del desempeño del modelo\n",
    "\n",
    "A continuación usaremos los datos del testeo y evaluaremos el desempeño del modelo usando distintas metricas de evaluación "
   ]
  },
  {
   "cell_type": "code",
   "execution_count": 16,
   "metadata": {},
   "outputs": [
    {
     "data": {
      "text/plain": [
       "100"
      ]
     },
     "execution_count": 16,
     "metadata": {},
     "output_type": "execute_result"
    }
   ],
   "source": [
    "xtest = test[:,0:13]\n",
    "xtest = xtest.T\n",
    "ytest = test[:,13]\n",
    "ytest = ytest[None]\n",
    "\n",
    "n=len(test[:,13])\n",
    "n\n"
   ]
  },
  {
   "cell_type": "markdown",
   "metadata": {},
   "source": [
    "#### Normalización de los datos de testeo"
   ]
  },
  {
   "cell_type": "code",
   "execution_count": 17,
   "metadata": {},
   "outputs": [],
   "source": [
    "# Normalización de los atributos de test\n",
    "mutest = np.mean(xtest, axis=1, keepdims=True)\n",
    "sigmatest = np.std(xtest, axis=1, keepdims=True)\n",
    "xtestNorm = (xtest - mutest)/sigmatest"
   ]
  },
  {
   "cell_type": "markdown",
   "metadata": {},
   "source": [
    "#### Metricas de evaluación\n",
    "\n",
    "Evaluando las siguientes metricas para regresión, podemos concluir que tenemos un buen modelo"
   ]
  },
  {
   "cell_type": "code",
   "execution_count": 18,
   "metadata": {},
   "outputs": [
    {
     "name": "stdout",
     "output_type": "stream",
     "text": [
      "La MSE es : 24.256\n",
      "La MAE es : -1.145\n",
      "La MAPE es : -0.097\n",
      "La RMSE es : 4.925\n",
      "El coeficiente de determinación es : 0.65191\n"
     ]
    }
   ],
   "source": [
    "ypred=h(xtestNorm,w,w0)\n",
    "\n",
    "# MSE (Mean Square Error)\n",
    "MSE = np.sum((ytest-ypred)**2)/n\n",
    "print(\"La MSE es : {}\".format(np.round(MSE,3)))\n",
    "\n",
    "# MAE (Mean Absolute Error)\n",
    "MAE = np.sum(ytest-ypred)/n\n",
    "print(\"La MAE es : {}\".format(np.round(MAE,3)))\n",
    "\n",
    "# MAPE (Mean Absolute Percentage Error)\n",
    "MAPE = np.sum((ytest-ypred)/ytest)/n\n",
    "print(\"La MAPE es : {}\".format(np.round(MAPE,3)))\n",
    "\n",
    "\n",
    "# RMSE (Root Mean Square Error)\n",
    "RMSE = np.sqrt(np.sum((ytest-ypred)**2)/n)\n",
    "print(\"La RMSE es : {}\".format(np.round(RMSE,3)))\n",
    "\n",
    "\n",
    "# R^2 (Coeficiente de determinación)\n",
    "R2=1-(np.sum((ytest-ypred)**2)/np.sum((ytest-np.mean(ytest, axis=1, keepdims=True))**2))\n",
    "print(\"El coeficiente de determinación es : {}\".format(np.round(R2,5)))"
   ]
  },
  {
   "cell_type": "markdown",
   "metadata": {},
   "source": [
    "### Pregunta 3\n",
    "\n",
    "El archivo datos clasificacion.csv tiene tres columnas: las dos primeras representan los dos atributos x1, x2, y la última columna representa la clase y a la cual pertenece la instancia, donde y ∈ {0, 1}. Dividir los datos en conjunto de entrenamiento y conjunto de prueba (usando el criterio 80 %-20 %). Entrenar un clasificador basado en regresión logística para clasificar los datos. Dado que la curva de decisión es no lineal, se usará bases polinomiales que incluirán combinaciones de ambos atributos hasta el sexto grado.\n",
    "Estos atributos se obtienen usando la función generacion bases. Además, el clasificador debe tener un término de regularización L2. Graficar los puntos y la frontera de decisión (se puede usar las funciones plot data y plot frontera). Igualmente, graficar la función de costo para verificar que converge."
   ]
  },
  {
   "cell_type": "markdown",
   "metadata": {},
   "source": [
    "#### Lectura de datos y Normalización"
   ]
  },
  {
   "cell_type": "code",
   "execution_count": 19,
   "metadata": {},
   "outputs": [],
   "source": [
    "data = np.loadtxt('datos_clasificacion.txt', delimiter=',')"
   ]
  },
  {
   "cell_type": "code",
   "execution_count": 20,
   "metadata": {},
   "outputs": [],
   "source": [
    "np.random.seed(seed=0)\n",
    "rango=random.sample(range(0, 118), 118)\n",
    "\n",
    "DF= data[rango]\n",
    "\n",
    "train=DF[0:94,:]\n",
    "test=DF[94:,:]\n"
   ]
  },
  {
   "cell_type": "code",
   "execution_count": 21,
   "metadata": {},
   "outputs": [
    {
     "name": "stdout",
     "output_type": "stream",
     "text": [
      "Tamaño de X: (2, 94)\n",
      "Tamaño de y: (1, 94)\n"
     ]
    }
   ],
   "source": [
    "# Instancias y sus respectivos valores de salida deseados\n",
    "X = train[:,0:2]; y = train[:,2];\n",
    "# Conversión al tamaño (y forma) deseados\n",
    "X = X.T             # (2,n)\n",
    "y = y[None,:]       # (1,n)\n",
    "print(\"Tamaño de X:\", X.shape)\n",
    "print(\"Tamaño de y:\", y.shape)\n",
    "# Número de instancias (tamaño de la muestra)\n",
    "n = y.size"
   ]
  },
  {
   "cell_type": "code",
   "execution_count": 22,
   "metadata": {},
   "outputs": [
    {
     "data": {
      "image/png": "[encoded data removed]",
      "text/plain": [
       "<Figure size 432x432 with 1 Axes>"
      ]
     },
     "metadata": {
      "needs_background": "light"
     },
     "output_type": "display_data"
    }
   ],
   "source": [
    "# Normalización de los datos\n",
    "mu = np.mean(X, axis=1, keepdims=True)\n",
    "sigma = np.std(X, axis=1, keepdims=True)\n",
    "Xn = (X-mu)/sigma\n",
    "# Gráfico de los datos normalizados\n",
    "plot_data(Xn, y)"
   ]
  },
  {
   "cell_type": "markdown",
   "metadata": {},
   "source": [
    "#### Funciones de hipotesis de y costo (Ridge) para regresión logistica "
   ]
  },
  {
   "cell_type": "code",
   "execution_count": 23,
   "metadata": {},
   "outputs": [],
   "source": [
    "# Función de hipótesis\n",
    "def h(X, w, w0):\n",
    "    z = np.dot(w.T, X) + w0\n",
    "    g = 1 / (1 + np.exp(-z))\n",
    "    return g\n",
    "\n",
    "# Función de costo\n",
    "def calcular_costo(X, y, w, w0,lam):\n",
    "    ypred = h(X, w, w0)\n",
    "    n = y.size\n",
    "    J = (-1/n)*( np.dot(y, np.log(ypred).T) + np.dot((1-y), np.log(1-ypred).T))+lam*np.sum(w**2)/(2*n)\n",
    "    return J.squeeze()"
   ]
  },
  {
   "cell_type": "markdown",
   "metadata": {},
   "source": [
    "#### Parámetros Óptimos usando Descenso del gradiente"
   ]
  },
  {
   "cell_type": "code",
   "execution_count": 24,
   "metadata": {},
   "outputs": [
    {
     "name": "stdout",
     "output_type": "stream",
     "text": [
      "Parámetros entrenados: w_0=0.92, w1=-0.18, w2=0.06\n"
     ]
    },
    {
     "data": {
      "text/plain": [
       "array(0.37289818)"
      ]
     },
     "execution_count": 24,
     "metadata": {},
     "output_type": "execute_result"
    },
    {
     "data": {
      "image/png": "[encoded data removed]",
      "text/plain": [
       "<Figure size 432x288 with 1 Axes>"
      ]
     },
     "metadata": {
      "needs_background": "light"
     },
     "output_type": "display_data"
    }
   ],
   "source": [
    "# Generamos una base polinomial de sexto grado\n",
    "\n",
    "Xm= generacion_bases(Xn,6)\n",
    "\n",
    "# Inicialización de los parámetros\n",
    "w = np.zeros((len(Xm),1))\n",
    "w0 = 0\n",
    "# Parámetros del descenso de gradiente\n",
    "iteraciones = 1000\n",
    "alfa = 0.01\n",
    "lam = 0.1\n",
    "\n",
    "# Descenso del gradiente\n",
    "n = y.size\n",
    "J_history = np.zeros(iteraciones)\n",
    "for i in np.arange(iteraciones):\n",
    "    e = h(Xm, w, w0) - y\n",
    "    w0 = w0 - alfa*(1/n)*np.sum(e)\n",
    "    w = w*(1-alfa*lam/n) - alfa*(1/n)*np.dot(Xm, e.T)\n",
    "    J_history[i] = calcular_costo(Xm, y, w, w0,lam)\n",
    "    \n",
    "    \n",
    "print(\"Parámetros entrenados: w_0={:.2f}, w1={:.2f}, w2={:.2f}\".format(w0, w[0,0], w[1,0]))\n",
    "\n",
    "# Gráfico de la función de costo\n",
    "plt.plot(J_history); plt.ylabel('Costo  $J(w_0,w_1)$'); plt.grid()\n",
    "plt.xlabel('Iteraciones'); plt.title('Evolución de la función de costo');\n",
    "\n",
    "calcular_costo(Xm, y, w, w0,lam)"
   ]
  },
  {
   "cell_type": "markdown",
   "metadata": {},
   "source": [
    "#### Clasificación de datos de clase 1 y clase 0"
   ]
  },
  {
   "cell_type": "code",
   "execution_count": 25,
   "metadata": {},
   "outputs": [
    {
     "data": {
      "image/png": "[encoded data removed]",
      "text/plain": [
       "<Figure size 432x432 with 1 Axes>"
      ]
     },
     "metadata": {
      "needs_background": "light"
     },
     "output_type": "display_data"
    }
   ],
   "source": [
    "# Gráfico de las instancias\n",
    "plot_data(Xn, y)\n",
    "\n",
    "# Determinación de la frontera de decisión\n",
    "plot_frontera(w0,w)"
   ]
  },
  {
   "cell_type": "markdown",
   "metadata": {},
   "source": [
    "#### Testeo del modelo "
   ]
  },
  {
   "cell_type": "code",
   "execution_count": 26,
   "metadata": {},
   "outputs": [
    {
     "name": "stdout",
     "output_type": "stream",
     "text": [
      "Tamaño de X: (2, 24)\n",
      "Tamaño de y: (1, 24)\n"
     ]
    }
   ],
   "source": [
    "# Instancias y sus respectivos valores de salida deseados\n",
    "Xtest = test[:,0:2]; ytest = test[:,2];\n",
    "# Conversión al tamaño (y forma) deseados\n",
    "Xtest = Xtest.T             # (2,n)\n",
    "ytest = ytest[None,:]       # (1,n)\n",
    "print(\"Tamaño de X:\", Xtest.shape)\n",
    "print(\"Tamaño de y:\", ytest.shape)\n",
    "# Número de instancias (tamaño de la muestra)\n",
    "n = ytest.size"
   ]
  },
  {
   "cell_type": "code",
   "execution_count": 27,
   "metadata": {},
   "outputs": [
    {
     "data": {
      "image/png": "[encoded data removed]",
      "text/plain": [
       "<Figure size 432x432 with 1 Axes>"
      ]
     },
     "metadata": {
      "needs_background": "light"
     },
     "output_type": "display_data"
    }
   ],
   "source": [
    "# Normalización de los datos\n",
    "mu = np.mean(Xtest, axis=1, keepdims=True)\n",
    "sigma = np.std(Xtest, axis=1, keepdims=True)\n",
    "Xntest = (Xtest-mu)/sigma\n",
    "# Gráfico de los datos normalizados\n",
    "plot_data(Xntest, ytest)"
   ]
  },
  {
   "cell_type": "code",
   "execution_count": 28,
   "metadata": {},
   "outputs": [
    {
     "data": {
      "image/png": "[encoded data removed]",
      "text/plain": [
       "<Figure size 432x432 with 1 Axes>"
      ]
     },
     "metadata": {
      "needs_background": "light"
     },
     "output_type": "display_data"
    }
   ],
   "source": [
    "# Probando la funcion de hipotesis obtenida\n",
    "Xmtest= generacion_bases(Xntest,6)\n",
    "\n",
    "yest=h(Xmtest,w,w0)\n",
    "\n",
    "\n",
    "# Gráfico de las instancias\n",
    "plot_data(Xntest, ytest)\n",
    "\n",
    "# Determinación de la frontera de decisión\n",
    "plot_frontera(w0,w)"
   ]
  },
  {
   "cell_type": "markdown",
   "metadata": {},
   "source": [
    "### Pregunta 4\n",
    "\n",
    "Dados un conjunto de atributos relacionados con el género, la edad, condiciones como asma, hipertensión, etc. se desea predecir si una persona a quien se le detecta COVID-19 ingresará a cuidados intensivos (UCI). Se utilizará los datos llamados covid train.csv y covid test.csv (para entrenamiento y prueba, respectivamente), que son datasets reducidos del dataset completo que se encuentra aquí. Utilizando regresión logística, entrenar un sistema que detecte, en la medida de lo posible, el ingreso a UCI dados los atributos de entrada. Una vez que se tenga el sistema entrenado, calcular algunas métricas para evaluar el desempeño del sistema, e indicar si existe overfitting (sobreajuste) o underfitting (subajuste).\n"
   ]
  },
  {
   "cell_type": "markdown",
   "metadata": {},
   "source": [
    "#### Lectura de datos y Normalización: \n",
    "\n",
    "Cargamos los modelos de los datos de entrenamiento y testeo usando la función de numpy np.loadtxt() y colocamos el delimiter para que esta sepa qué los datos se encuentran separados por comas."
   ]
  },
  {
   "cell_type": "code",
   "execution_count": 29,
   "metadata": {},
   "outputs": [],
   "source": [
    "# Lectura de datos\n",
    "# ================\n",
    "train = np.loadtxt('covid_train.txt', delimiter=\",\")\n",
    "test  = np.loadtxt('covid_test.txt', delimiter=\",\")\n"
   ]
  },
  {
   "cell_type": "code",
   "execution_count": 30,
   "metadata": {},
   "outputs": [
    {
     "name": "stdout",
     "output_type": "stream",
     "text": [
      "Tamaño de X: (18, 4554)\n",
      "Tamaño de y: (1, 4554)\n"
     ]
    }
   ],
   "source": [
    "# Instancias y sus respectivos valores de salida deseados\n",
    "X = train[:,0:18]; y = train[:,18];\n",
    "# Conversión al tamaño (y forma) deseados\n",
    "X = X.T             # (18,n)\n",
    "y = y[None,:]       # (1,n)\n",
    "#Les restamos un 1 a las salidas para que nos queden en el rango de 0-1\n",
    "y = y-np.ones(4554,).T\n",
    "print(\"Tamaño de X:\", X.shape)\n",
    "print(\"Tamaño de y:\", y.shape)\n",
    "# Número de instancias (tamaño de la muestra)\n",
    "n = y.size"
   ]
  },
  {
   "cell_type": "markdown",
   "metadata": {},
   "source": [
    "#### Función de hipótesis y de costo para regresión logistica (vectorizadas) "
   ]
  },
  {
   "cell_type": "code",
   "execution_count": 31,
   "metadata": {},
   "outputs": [],
   "source": [
    "# Función de hipótesis\n",
    "def h(X, w, w0):\n",
    "    z = np.dot(w.T, X) + w0\n",
    "    g = 1 / (1 + np.exp(-z))\n",
    "    return g\n",
    "\n",
    "# Función de costo\n",
    "def calcular_costo(X, y, w, w0,lam):\n",
    "    ypred = h(X, w, w0)\n",
    "    n = y.size\n",
    "    J = (-1/n)*( np.dot(y, np.log(ypred).T) + np.dot((1-y), np.log(1-ypred).T))+lam*np.sum(w**2)/(2*n)\n",
    "    return J.squeeze()"
   ]
  },
  {
   "cell_type": "markdown",
   "metadata": {},
   "source": [
    "#### Parámetros Óptimos usando Descenso del gradiente"
   ]
  },
  {
   "cell_type": "code",
   "execution_count": 32,
   "metadata": {},
   "outputs": [
    {
     "name": "stdout",
     "output_type": "stream",
     "text": [
      "Parámetros entrenados: w_0=0.00, w1=0.00, w2=0.01\n"
     ]
    },
    {
     "data": {
      "image/png": "[encoded data removed]",
      "text/plain": [
       "<Figure size 432x288 with 1 Axes>"
      ]
     },
     "metadata": {
      "needs_background": "light"
     },
     "output_type": "display_data"
    }
   ],
   "source": [
    "# Generamos una base polinomial de segundo grado \n",
    "\n",
    "Xm= generacion_bases(X,2)\n",
    "\n",
    "# Inicialización de los parámetros\n",
    "w = np.zeros((len(Xm),1))\n",
    "w0 = 0\n",
    "# Parámetros del descenso de gradiente\n",
    "iteraciones = 1000\n",
    "alfa = 0.01\n",
    "lam = 10\n",
    "\n",
    "# Descenso del gradiente\n",
    "n = y.size\n",
    "J_history = np.zeros(iteraciones)\n",
    "for i in np.arange(iteraciones):\n",
    "    e = h(Xm, w, w0) - y\n",
    "    w0 = w0 - alfa*(1/n)*np.sum(e)\n",
    "    w = w*(1-alfa*lam/n) - alfa*(1/n)*np.dot(Xm, e.T)\n",
    "    J_history[i] = calcular_costo(Xm, y, w, w0,lam)\n",
    "    \n",
    "    \n",
    "print(\"Parámetros entrenados: w_0={:.2f}, w1={:.2f}, w2={:.2f}\".format(w0, w[0,0], w[1,0]))\n",
    "\n",
    "# Gráfico de la función de costo\n",
    "plt.plot(J_history); plt.ylabel('Costo  $J(w_0,w_1)$'); plt.grid()\n",
    "plt.xlabel('Iteraciones'); plt.title('Evolución de la función de costo');"
   ]
  },
  {
   "cell_type": "markdown",
   "metadata": {},
   "source": [
    "#### Testeo del modelo y calculo del MSE"
   ]
  },
  {
   "cell_type": "code",
   "execution_count": 33,
   "metadata": {},
   "outputs": [
    {
     "name": "stdout",
     "output_type": "stream",
     "text": [
      "Tamaño de X: (18, 1139)\n",
      "Tamaño de y: (1, 1139)\n"
     ]
    }
   ],
   "source": [
    "# Instancias y sus respectivos valores de salida deseados\n",
    "Xtest = test[:,0:18]; ytest = test[:,18];\n",
    "# Número de instancias (tamaño de la muestra)\n",
    "ntest = ytest.size\n",
    "# Conversión al tamaño (y forma) deseados\n",
    "Xtest = Xtest.T             # (18,n)\n",
    "ytest = ytest[None,:]       # (1,n)\n",
    "#Les restamos un 1 a las salidas para que nos queden en el rango de 0-1 \n",
    "ytest = ytest-np.ones(1139,).T #El vector de 1 es del largo de ntest\n",
    "print(\"Tamaño de X:\", Xtest.shape)\n",
    "print(\"Tamaño de y:\", ytest.shape)"
   ]
  },
  {
   "cell_type": "code",
   "execution_count": 34,
   "metadata": {},
   "outputs": [
    {
     "name": "stdout",
     "output_type": "stream",
     "text": [
      "El MSE del testeo es: 0.24928295\n",
      "El MSE del entrenamiento es: 0.24928232\n"
     ]
    }
   ],
   "source": [
    "# Creamos una base polinomial de segundo grado\n",
    "Xtestm= generacion_bases(Xtest,2)\n",
    "\n",
    "# Predecimos la respuesta del y de testeo usando el X de test en una base \n",
    "# polinomial de segundo orden y luego lo comparamos con el y de testeo real\n",
    "yestimado = h(Xtestm,w,w0)\n",
    "\n",
    "# Con este modelo calculamos el MSE de nuestro test\n",
    "MSEtest=np.sum((ytest-yestimado)**2)/1139\n",
    "print(\"El MSE del testeo es:\",np.round(MSEtest,8))\n",
    "\n",
    "# De la misma manera, calculamos el MSE del modelo, el cual calculamos \n",
    "# utilizando el y de entrenamiento y el y obtenido de la función de hipotesis\n",
    "yentrenamiento = h(Xm,w,w0)\n",
    "\n",
    "MSE = np.sum((y-yentrenamiento)**2)/4554\n",
    "print(\"El MSE del entrenamiento es:\", np.round(MSE,8))\n",
    "\n",
    "# Podemos apreciar que el error es minimo en ambos casos"
   ]
  },
  {
   "cell_type": "markdown",
   "metadata": {},
   "source": [
    "#### Comprobación de Overfitting\n",
    "\n",
    "Es importante comprobar que los modelos obtenidos en el entrenamiento y en el testeo tengan valores similares de exactitud, por lo que haremos uso de la función predecir para verificar que tan exacto es nuestro modelo."
   ]
  },
  {
   "cell_type": "code",
   "execution_count": 35,
   "metadata": {},
   "outputs": [],
   "source": [
    "# Exactitud de entrenamiento\n",
    "def predecir(X, w, w0):\n",
    "    yprob = h(X, w, w0)\n",
    "    n = X.shape[1]    # Número de instancias a predecir\n",
    "    ypred = np.zeros((1, n))\n",
    "    ypred[0, yprob.flatten()>=0.5] = 1\n",
    "    return ypred"
   ]
  },
  {
   "cell_type": "code",
   "execution_count": 36,
   "metadata": {},
   "outputs": [
    {
     "name": "stdout",
     "output_type": "stream",
     "text": [
      "Exactitud del modelo: 52.679 %\n"
     ]
    }
   ],
   "source": [
    "# Porcentaje de exactitud del modelo \n",
    "ypred = predecir(Xm, w, w0)\n",
    "exactitud = np.mean(ypred == y)*100\n",
    "print('Exactitud del modelo: {:.3f} %'.format(exactitud))"
   ]
  },
  {
   "cell_type": "code",
   "execution_count": 37,
   "metadata": {},
   "outputs": [
    {
     "name": "stdout",
     "output_type": "stream",
     "text": [
      "Exactitud del entrenamiento: 52.678 %\n"
     ]
    }
   ],
   "source": [
    "# Porcentaje de exactitud del entrenamiento \n",
    "ypred = predecir(Xtestm, w, w0)\n",
    "exactitud = np.mean(ypred == ytest)*100\n",
    "print('Exactitud del entrenamiento: {:.3f} %'.format(exactitud))"
   ]
  }
 ],
 "metadata": {
  "kernelspec": {
   "display_name": "Python 3",
   "language": "python",
   "name": "python3"
  },
  "language_info": {
   "codemirror_mode": {
    "name": "ipython",
    "version": 3
   },
   "file_extension": ".py",
   "mimetype": "text/x-python",
   "name": "python",
   "nbconvert_exporter": "python",
   "pygments_lexer": "ipython3",
   "version": "3.8.3"
  }
 },
 "nbformat": 4,
 "nbformat_minor": 4
}
